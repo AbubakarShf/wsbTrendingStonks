{
 "cells": [
  {
   "cell_type": "code",
   "execution_count": 1,
   "metadata": {},
   "outputs": [],
   "source": [
    "# Step 0: Import dependent packages"
   ]
  },
  {
   "cell_type": "code",
   "execution_count": 2,
   "metadata": {
    "scrolled": true
   },
   "outputs": [
    {
     "name": "stderr",
     "output_type": "stream",
     "text": [
      "/Users/tsantinelli/.virtualenvs/jupyternotebook/lib/python3.7/site-packages/pandas/compat/__init__.py:97: UserWarning: Could not import the lzma module. Your installed Python is incomplete. Attempting to use lzma compression will result in a RuntimeError.\n",
      "  warnings.warn(msg)\n"
     ]
    }
   ],
   "source": [
    "import pandas as pd #for data transformation\n",
    "import praw #to access reddit data\n",
    "import re #for regex on scraped text\n",
    "import requests # for posting message"
   ]
  },
  {
   "cell_type": "code",
   "execution_count": 3,
   "metadata": {},
   "outputs": [],
   "source": [
    "# Step 1: Get content from Reddit /wsb"
   ]
  },
  {
   "cell_type": "code",
   "execution_count": 4,
   "metadata": {},
   "outputs": [
    {
     "name": "stderr",
     "output_type": "stream",
     "text": [
      "Version 7.1.0 of praw is outdated. Version 7.1.4 was released 1 day ago.\n"
     ]
    }
   ],
   "source": [
    "reddit = praw.Reddit(\n",
    "    client_id = \"\",\n",
    "    client_secret = \"\",\n",
    "    user_agent = \"Mozilla/5.0 (Macintosh; Intel Mac OS X 10_15_7) AppleWebKit/537.36 (KHTML, like Gecko) Chrome/87.0.4280.141 Safari/537.36\"\n",
    ")"
   ]
  },
  {
   "cell_type": "code",
   "execution_count": 5,
   "metadata": {},
   "outputs": [],
   "source": [
    "df = []\n",
    "\n",
    "for post in reddit.subreddit('wallstreetbets').hot(limit=500):\n",
    "    \n",
    "    content = {\n",
    "        \"title\" : post.title,\n",
    "        \"text\" : post.selftext\n",
    "    }\n",
    "    \n",
    "    df.append(content)\n",
    "\n",
    "df = pd.DataFrame(df)"
   ]
  },
  {
   "cell_type": "code",
   "execution_count": 6,
   "metadata": {},
   "outputs": [],
   "source": [
    "# Step 2: Analyze word frequency\n",
    "\n",
    "regex = re.compile('[^a-zA-Z ]')\n",
    "word_dict = {}\n",
    "\n",
    "for (index, row) in df.iterrows():\n",
    "    # titles\n",
    "    title = row['title']\n",
    "    \n",
    "    title = regex.sub('', title)\n",
    "    title_words = title.split(' ')\n",
    "    \n",
    "    # content\n",
    "    content = row['text']\n",
    "    \n",
    "    content = regex.sub('', content)\n",
    "    content_words = content.split(' ')\n",
    "    \n",
    "    # combine\n",
    "    words = title_words + content_words\n",
    "    \n",
    "    for x in words:\n",
    "        \n",
    "        if x in ['A', 'B', 'GO', 'ARE', 'ON', 'IT', 'ALL', 'NEXT', 'PUMP', 'AT', 'NOW', 'FOR', 'TD', 'CEO', 'AM', 'K', 'BIG', 'BY', 'LOVE', 'CAN', 'BE', 'SO', 'OUT', 'STAY', 'OR', 'NEW','RH','EDIT','ONE','ANY']:\n",
    "            pass\n",
    "        elif x in word_dict:\n",
    "            word_dict[x] += 1\n",
    "        else:\n",
    "            word_dict[x] = 1\n",
    "\n",
    "word_df = pd.DataFrame.from_dict(list(word_dict.items())).rename(columns = {0:\"Term\", 1:\"Frequency\"})"
   ]
  },
  {
   "cell_type": "code",
   "execution_count": 7,
   "metadata": {},
   "outputs": [],
   "source": [
    "# Step 3: Get a list of stock tickers"
   ]
  },
  {
   "cell_type": "code",
   "execution_count": 8,
   "metadata": {},
   "outputs": [],
   "source": [
    "ticker_df = pd.read_csv('tickers.csv').rename(columns = {\"Symbol\":\"Term\", \"Name\":\"Company_Name\"})"
   ]
  },
  {
   "cell_type": "code",
   "execution_count": 9,
   "metadata": {},
   "outputs": [],
   "source": [
    "# Step 4: Compare tickers and words scraped"
   ]
  },
  {
   "cell_type": "code",
   "execution_count": 10,
   "metadata": {},
   "outputs": [],
   "source": [
    "stonks_df = pd.merge(ticker_df, word_df, on=\"Term\")"
   ]
  },
  {
   "cell_type": "code",
   "execution_count": 11,
   "metadata": {},
   "outputs": [],
   "source": [
    "stonks_df = stonks_df.sort_values(by=\"Frequency\", ascending = False, ignore_index = True).head(20)"
   ]
  },
  {
   "cell_type": "code",
   "execution_count": 12,
   "metadata": {},
   "outputs": [],
   "source": [
    "# Step 5: post top 10 most discussed stocks to groupme"
   ]
  },
  {
   "cell_type": "code",
   "execution_count": 13,
   "metadata": {},
   "outputs": [],
   "source": [
    "output = \"\\n\\n~~Top 10 Stonks on WSB~~\\n\"+ \"1) \"+ stonks_df['Company_Name'][0] + \" (\" + stonks_df['Term'][0] + \") \" + \" - \" + str(stonks_df['Frequency'][0]) + \" mentions\\n\"+ \"2) \"+ stonks_df['Company_Name'][1] + \" (\" + stonks_df['Term'][1] + \") \" + \" - \" + str(stonks_df['Frequency'][1]) + \" mentions\\n\"+ \"3) \"+ stonks_df['Company_Name'][2] + \" (\" + stonks_df['Term'][2] + \") \" + \" - \" + str(stonks_df['Frequency'][2]) + \" mentions\\n\"+ \"4) \"+ stonks_df['Company_Name'][3] + \" (\" + stonks_df['Term'][3] + \") \" + \" - \" + str(stonks_df['Frequency'][3]) + \" mentions\\n\"+ \"5) \"+ stonks_df['Company_Name'][4] + \" (\" + stonks_df['Term'][4] + \") \" + \" - \" + str(stonks_df['Frequency'][4]) + \" mentions\\n\"+ \"6) \"+ stonks_df['Company_Name'][5] + \" (\" + stonks_df['Term'][5] + \") \" + \" - \" + str(stonks_df['Frequency'][5]) + \" mentions\\n\"+ \"7) \"+ stonks_df['Company_Name'][6] + \" (\" + stonks_df['Term'][6] + \") \" + \" - \" + str(stonks_df['Frequency'][6]) + \" mentions\\n\"+ \"8) \"+ stonks_df['Company_Name'][7] + \" (\" + stonks_df['Term'][7] + \") \" + \" - \" + str(stonks_df['Frequency'][7]) + \" mentions\\n\"+ \"9) \"+ stonks_df['Company_Name'][8] + \" (\" + stonks_df['Term'][8] + \") \" + \" - \" + str(stonks_df['Frequency'][8]) + \" mentions\\n\"+ \"10) \"+ stonks_df['Company_Name'][9] + \" (\" + stonks_df['Term'][9] + \") \" + \" - \" + str(stonks_df['Frequency'][9]) + \" mentions\""
   ]
  },
  {
   "cell_type": "code",
   "execution_count": 14,
   "metadata": {},
   "outputs": [],
   "source": [
    "r = requests.post('https://slack.com/api/chat.postMessage',\n",
    "    headers = {\n",
    "        \"Authorization\" : \"\"\n",
    "    },\n",
    "    params = {\n",
    "        \"channel\" : \"\",\n",
    "        \"text\" : output\n",
    "    }\n",
    ")"
   ]
  },
  {
   "cell_type": "code",
   "execution_count": 15,
   "metadata": {},
   "outputs": [],
   "source": [
    "r = requests.post('https://api.groupme.com/v3/bots/post',\n",
    "    data = {\n",
    "        \"text\" : output,\n",
    "        \"bot_id\" : \"\"\n",
    "    }\n",
    ")"
   ]
  }
 ],
 "metadata": {
  "kernelspec": {
   "display_name": "Python 3",
   "language": "python",
   "name": "python3"
  },
  "language_info": {
   "codemirror_mode": {
    "name": "ipython",
    "version": 3
   },
   "file_extension": ".py",
   "mimetype": "text/x-python",
   "name": "python",
   "nbconvert_exporter": "python",
   "pygments_lexer": "ipython3",
   "version": "3.7.9"
  }
 },
 "nbformat": 4,
 "nbformat_minor": 4
}
