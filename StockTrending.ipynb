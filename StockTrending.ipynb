{
 "cells": [
  {
   "cell_type": "markdown",
   "metadata": {},
   "source": [
    "# Step 0. Import dependencies\n",
    "# Step 1. Get content from r/wallstreetbets\n",
    "# Step 2. Analyze word frequency\n",
    "# Step 3. Get a list of stock tickers\n",
    "# Step 4. Inner join word frequency and stock tickers\n",
    "# Step 5. Output the 100 to 300+ most mentioned stocks in csv"
   ]
  },
  {
   "cell_type": "code",
   "execution_count": 1,
   "metadata": {},
   "outputs": [],
   "source": [
    "# Step 0: Import dependent packages"
   ]
  },
  {
   "cell_type": "code",
   "execution_count": 2,
   "metadata": {
    "scrolled": true
   },
   "outputs": [],
   "source": [
    "import pandas as pd #for data transformation\n",
    "import praw #to access reddit data\n",
    "import re #for regex on scraped text\n",
    "import requests # for posting message"
   ]
  },
  {
   "cell_type": "code",
   "execution_count": 3,
   "metadata": {},
   "outputs": [],
   "source": [
    "# Step 1: Get content from Reddit /wsb"
   ]
  },
  {
   "cell_type": "code",
   "execution_count": 4,
   "metadata": {},
   "outputs": [],
   "source": [
    "reddit = praw.Reddit(\n",
    "    client_id=\"I0BDP3rqyT-BJx8rRQBxwg\",\n",
    "    client_secret = \"Z625x_gkqEMIV-IrD4dvBwi70gcs0w\",\n",
    "    user_agent = \"abubakar-api\")"
   ]
  },
  {
   "cell_type": "code",
   "execution_count": null,
   "metadata": {},
   "outputs": [],
   "source": [
    "df = []\n",
    "\n",
    "for post in reddit.subreddit('wallstreetbets+investing+stocks').top(limit=20000):\n",
    "    \n",
    "    content = {\n",
    "        \"title\" : post.title,\n",
    "        \"text\" : post.selftext\n",
    "    }\n",
    "    \n",
    "    df.append(content)\n",
    "\n",
    "df = pd.DataFrame(df)"
   ]
  },
  {
   "cell_type": "code",
   "execution_count": null,
   "metadata": {},
   "outputs": [],
   "source": [
    "# Step 2: Analyze word frequency\n",
    "\n",
    "regex = re.compile('[^a-zA-Z ]')\n",
    "word_dict = {}\n",
    "\n",
    "#Cleaning our data -> Removing the spaces, symbols and other unrelated stuff.\n",
    "for (index, row) in df.iterrows():\n",
    "    # titles\n",
    "    title = row['title']\n",
    "    \n",
    "    title = regex.sub('', title)\n",
    "    title_words = title.split(' ')\n",
    "    \n",
    "    # content\n",
    "    content = row['text']\n",
    "    \n",
    "    content = regex.sub('', content)\n",
    "    content_words = content.split(' ')\n",
    "    \n",
    "    # combining our title and content ...like  a paragraph\n",
    "    words = title_words + content_words\n",
    "    \n",
    "    for x in words: #Checking the number of times a ticket is repeated.\n",
    "        \n",
    "        if x in ['A', 'B', 'GO', 'ARE', 'ON', 'IT', 'ALL', 'NEXT', 'PUMP', 'AT', 'NOW', 'FOR', 'TD', 'CEO', 'AM', 'K', 'BIG', 'BY', 'LOVE', 'CAN', 'BE', 'SO', 'OUT', 'STAY', 'OR', 'NEW','RH','EDIT','ONE','ANY']:\n",
    "            pass\n",
    "        elif x in word_dict:\n",
    "            word_dict[x] += 1\n",
    "        else:\n",
    "            word_dict[x] = 1\n",
    "\n",
    "word_df = pd.DataFrame.from_dict(list(word_dict.items())).rename(columns = {0:\"Term\", 1:\"Frequency\"})\n"
   ]
  },
  {
   "cell_type": "code",
   "execution_count": null,
   "metadata": {},
   "outputs": [],
   "source": [
    "# Step 3: Get a list of stock tickers (Get data from csv)"
   ]
  },
  {
   "cell_type": "code",
   "execution_count": null,
   "metadata": {},
   "outputs": [],
   "source": [
    "ticker_df = pd.read_csv('tickers.csv').rename(columns = {\"Symbol\":\"Term\", \"Name\":\"Company_Name\"})\n"
   ]
  },
  {
   "cell_type": "code",
   "execution_count": null,
   "metadata": {},
   "outputs": [],
   "source": [
    "# Step 4: Compare tickers and words scraped (Compare csv data with our scraped data to ensure our data\n",
    "# must be related to Ticket and CompanyName)"
   ]
  },
  {
   "cell_type": "code",
   "execution_count": null,
   "metadata": {},
   "outputs": [],
   "source": [
    "stonks_df = pd.merge(ticker_df, word_df, on=\"Term\")\n",
    "print(stonks_df)\n",
    "#Copy the merged data into another variable\n",
    "Copy_stocks_df=stonks_df"
   ]
  },
  {
   "cell_type": "code",
   "execution_count": null,
   "metadata": {},
   "outputs": [],
   "source": [
    "# Making column in descending Order and displaying the all the scrapped cleaned data\n",
    "stonks_df = stonks_df.sort_values(by=\"Frequency\", ascending = False, ignore_index = True).head(len(Copy_stocks_df))\n",
    "# stonks_df\n",
    "\n",
    "#Saving al data in a csv file\n",
    "stonks_df.to_csv(\"Stock_Cleaned_Data.csv\")"
   ]
  },
  {
   "cell_type": "code",
   "execution_count": null,
   "metadata": {},
   "outputs": [],
   "source": [
    "# Displayig all data as output on the screen\n",
    "for i in range(0,len(stonks_df),1):\n",
    "    print(i,\")- \",stonks_df['Company_Name'][i],\" ( \",stonks_df['Term'][i],\" )\",\" - \" + str(stonks_df['Frequency'][i]) + \" mentions\\n\")"
   ]
  }
 ],
 "metadata": {
  "kernelspec": {
   "display_name": "Python 3",
   "language": "python",
   "name": "python3"
  },
  "language_info": {
   "codemirror_mode": {
    "name": "ipython",
    "version": 3
   },
   "file_extension": ".py",
   "mimetype": "text/x-python",
   "name": "python",
   "nbconvert_exporter": "python",
   "pygments_lexer": "ipython3",
   "version": "3.8.8"
  }
 },
 "nbformat": 4,
 "nbformat_minor": 4
}
